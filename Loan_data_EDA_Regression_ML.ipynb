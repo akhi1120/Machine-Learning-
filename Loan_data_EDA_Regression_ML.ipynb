{
 "cells": [
  {
   "cell_type": "markdown",
   "id": "d9c79271-6c12-426e-960f-2cc0cbb31cdd",
   "metadata": {},
   "source": [
    "## Import Necessary libraries"
   ]
  },
  {
   "cell_type": "code",
   "execution_count": 377,
   "id": "78c1b26b-0b9e-4b0d-9c2a-a9e9f9976fdc",
   "metadata": {},
   "outputs": [],
   "source": [
    "import pandas as pd\n",
    "import numpy as np\n",
    "import matplotlib.pyplot as plt\n",
    "%matplotlib inline "
   ]
  },
  {
   "cell_type": "markdown",
   "id": "3613bff5-daf1-4f2e-8e6e-2549096b672d",
   "metadata": {},
   "source": [
    "# load data"
   ]
  },
  {
   "cell_type": "code",
   "execution_count": 380,
   "id": "130f0ddd-37d3-4532-ae0e-edc6f145e66b",
   "metadata": {},
   "outputs": [],
   "source": [
    "df=pd.read_csv(\"C:\\\\Users\\\\akhil\\\\Downloads\\\\loan (1).csv\")"
   ]
  },
  {
   "cell_type": "code",
   "execution_count": 382,
   "id": "f664d527-afe9-4844-ad3b-f564f460f2ec",
   "metadata": {},
   "outputs": [
    {
     "data": {
      "text/plain": [
       "Index(['Loan_ID', 'Gender', 'Married', 'Dependents', 'Education',\n",
       "       'Self_Employed', 'ApplicantIncome', 'CoapplicantIncome', 'LoanAmount',\n",
       "       'Loan_Amount_Term', 'Credit_History', 'Property_Area', 'Loan_Status'],\n",
       "      dtype='object')"
      ]
     },
     "execution_count": 382,
     "metadata": {},
     "output_type": "execute_result"
    }
   ],
   "source": [
    "df.columns"
   ]
  },
  {
   "cell_type": "code",
   "execution_count": 384,
   "id": "dd3fb65f-c12e-4a59-852d-beb580f711d3",
   "metadata": {},
   "outputs": [
    {
     "data": {
      "text/html": [
       "<div>\n",
       "<style scoped>\n",
       "    .dataframe tbody tr th:only-of-type {\n",
       "        vertical-align: middle;\n",
       "    }\n",
       "\n",
       "    .dataframe tbody tr th {\n",
       "        vertical-align: top;\n",
       "    }\n",
       "\n",
       "    .dataframe thead th {\n",
       "        text-align: right;\n",
       "    }\n",
       "</style>\n",
       "<table border=\"1\" class=\"dataframe\">\n",
       "  <thead>\n",
       "    <tr style=\"text-align: right;\">\n",
       "      <th></th>\n",
       "      <th>Loan_ID</th>\n",
       "      <th>Gender</th>\n",
       "      <th>Married</th>\n",
       "      <th>Dependents</th>\n",
       "      <th>Education</th>\n",
       "      <th>Self_Employed</th>\n",
       "      <th>ApplicantIncome</th>\n",
       "      <th>CoapplicantIncome</th>\n",
       "      <th>LoanAmount</th>\n",
       "      <th>Loan_Amount_Term</th>\n",
       "      <th>Credit_History</th>\n",
       "      <th>Property_Area</th>\n",
       "      <th>Loan_Status</th>\n",
       "    </tr>\n",
       "  </thead>\n",
       "  <tbody>\n",
       "    <tr>\n",
       "      <th>0</th>\n",
       "      <td>LP001002</td>\n",
       "      <td>Male</td>\n",
       "      <td>No</td>\n",
       "      <td>0</td>\n",
       "      <td>Graduate</td>\n",
       "      <td>No</td>\n",
       "      <td>5849</td>\n",
       "      <td>0.0</td>\n",
       "      <td>NaN</td>\n",
       "      <td>360.0</td>\n",
       "      <td>1.0</td>\n",
       "      <td>Urban</td>\n",
       "      <td>Y</td>\n",
       "    </tr>\n",
       "    <tr>\n",
       "      <th>1</th>\n",
       "      <td>LP001003</td>\n",
       "      <td>Male</td>\n",
       "      <td>Yes</td>\n",
       "      <td>1</td>\n",
       "      <td>Graduate</td>\n",
       "      <td>No</td>\n",
       "      <td>4583</td>\n",
       "      <td>1508.0</td>\n",
       "      <td>128.0</td>\n",
       "      <td>360.0</td>\n",
       "      <td>1.0</td>\n",
       "      <td>Rural</td>\n",
       "      <td>N</td>\n",
       "    </tr>\n",
       "    <tr>\n",
       "      <th>2</th>\n",
       "      <td>LP001005</td>\n",
       "      <td>Male</td>\n",
       "      <td>Yes</td>\n",
       "      <td>0</td>\n",
       "      <td>Graduate</td>\n",
       "      <td>Yes</td>\n",
       "      <td>3000</td>\n",
       "      <td>0.0</td>\n",
       "      <td>66.0</td>\n",
       "      <td>360.0</td>\n",
       "      <td>1.0</td>\n",
       "      <td>Urban</td>\n",
       "      <td>Y</td>\n",
       "    </tr>\n",
       "    <tr>\n",
       "      <th>3</th>\n",
       "      <td>LP001006</td>\n",
       "      <td>Male</td>\n",
       "      <td>Yes</td>\n",
       "      <td>0</td>\n",
       "      <td>Not Graduate</td>\n",
       "      <td>No</td>\n",
       "      <td>2583</td>\n",
       "      <td>2358.0</td>\n",
       "      <td>120.0</td>\n",
       "      <td>360.0</td>\n",
       "      <td>1.0</td>\n",
       "      <td>Urban</td>\n",
       "      <td>Y</td>\n",
       "    </tr>\n",
       "    <tr>\n",
       "      <th>4</th>\n",
       "      <td>LP001008</td>\n",
       "      <td>Male</td>\n",
       "      <td>No</td>\n",
       "      <td>0</td>\n",
       "      <td>Graduate</td>\n",
       "      <td>No</td>\n",
       "      <td>6000</td>\n",
       "      <td>0.0</td>\n",
       "      <td>141.0</td>\n",
       "      <td>360.0</td>\n",
       "      <td>1.0</td>\n",
       "      <td>Urban</td>\n",
       "      <td>Y</td>\n",
       "    </tr>\n",
       "  </tbody>\n",
       "</table>\n",
       "</div>"
      ],
      "text/plain": [
       "    Loan_ID Gender Married Dependents     Education Self_Employed  \\\n",
       "0  LP001002   Male      No          0      Graduate            No   \n",
       "1  LP001003   Male     Yes          1      Graduate            No   \n",
       "2  LP001005   Male     Yes          0      Graduate           Yes   \n",
       "3  LP001006   Male     Yes          0  Not Graduate            No   \n",
       "4  LP001008   Male      No          0      Graduate            No   \n",
       "\n",
       "   ApplicantIncome  CoapplicantIncome  LoanAmount  Loan_Amount_Term  \\\n",
       "0             5849                0.0         NaN             360.0   \n",
       "1             4583             1508.0       128.0             360.0   \n",
       "2             3000                0.0        66.0             360.0   \n",
       "3             2583             2358.0       120.0             360.0   \n",
       "4             6000                0.0       141.0             360.0   \n",
       "\n",
       "   Credit_History Property_Area Loan_Status  \n",
       "0             1.0         Urban           Y  \n",
       "1             1.0         Rural           N  \n",
       "2             1.0         Urban           Y  \n",
       "3             1.0         Urban           Y  \n",
       "4             1.0         Urban           Y  "
      ]
     },
     "execution_count": 384,
     "metadata": {},
     "output_type": "execute_result"
    }
   ],
   "source": [
    "df.head()"
   ]
  },
  {
   "cell_type": "code",
   "execution_count": 386,
   "id": "cdda3d3d-8ab9-43c5-8eb4-4bc03baaacd0",
   "metadata": {},
   "outputs": [
    {
     "data": {
      "text/plain": [
       "(614, 13)"
      ]
     },
     "execution_count": 386,
     "metadata": {},
     "output_type": "execute_result"
    }
   ],
   "source": [
    "df.shape"
   ]
  },
  {
   "cell_type": "code",
   "execution_count": 388,
   "id": "a988d858-e7b9-4fd2-a1da-61a2bb9c9d75",
   "metadata": {},
   "outputs": [
    {
     "data": {
      "text/html": [
       "<div>\n",
       "<style scoped>\n",
       "    .dataframe tbody tr th:only-of-type {\n",
       "        vertical-align: middle;\n",
       "    }\n",
       "\n",
       "    .dataframe tbody tr th {\n",
       "        vertical-align: top;\n",
       "    }\n",
       "\n",
       "    .dataframe thead th {\n",
       "        text-align: right;\n",
       "    }\n",
       "</style>\n",
       "<table border=\"1\" class=\"dataframe\">\n",
       "  <thead>\n",
       "    <tr style=\"text-align: right;\">\n",
       "      <th></th>\n",
       "      <th>ApplicantIncome</th>\n",
       "      <th>CoapplicantIncome</th>\n",
       "      <th>LoanAmount</th>\n",
       "      <th>Loan_Amount_Term</th>\n",
       "      <th>Credit_History</th>\n",
       "    </tr>\n",
       "  </thead>\n",
       "  <tbody>\n",
       "    <tr>\n",
       "      <th>count</th>\n",
       "      <td>614.000000</td>\n",
       "      <td>614.000000</td>\n",
       "      <td>592.000000</td>\n",
       "      <td>600.00000</td>\n",
       "      <td>564.000000</td>\n",
       "    </tr>\n",
       "    <tr>\n",
       "      <th>mean</th>\n",
       "      <td>5403.459283</td>\n",
       "      <td>1621.245798</td>\n",
       "      <td>146.412162</td>\n",
       "      <td>342.00000</td>\n",
       "      <td>0.842199</td>\n",
       "    </tr>\n",
       "    <tr>\n",
       "      <th>std</th>\n",
       "      <td>6109.041673</td>\n",
       "      <td>2926.248369</td>\n",
       "      <td>85.587325</td>\n",
       "      <td>65.12041</td>\n",
       "      <td>0.364878</td>\n",
       "    </tr>\n",
       "    <tr>\n",
       "      <th>min</th>\n",
       "      <td>150.000000</td>\n",
       "      <td>0.000000</td>\n",
       "      <td>9.000000</td>\n",
       "      <td>12.00000</td>\n",
       "      <td>0.000000</td>\n",
       "    </tr>\n",
       "    <tr>\n",
       "      <th>25%</th>\n",
       "      <td>2877.500000</td>\n",
       "      <td>0.000000</td>\n",
       "      <td>100.000000</td>\n",
       "      <td>360.00000</td>\n",
       "      <td>1.000000</td>\n",
       "    </tr>\n",
       "    <tr>\n",
       "      <th>50%</th>\n",
       "      <td>3812.500000</td>\n",
       "      <td>1188.500000</td>\n",
       "      <td>128.000000</td>\n",
       "      <td>360.00000</td>\n",
       "      <td>1.000000</td>\n",
       "    </tr>\n",
       "    <tr>\n",
       "      <th>75%</th>\n",
       "      <td>5795.000000</td>\n",
       "      <td>2297.250000</td>\n",
       "      <td>168.000000</td>\n",
       "      <td>360.00000</td>\n",
       "      <td>1.000000</td>\n",
       "    </tr>\n",
       "    <tr>\n",
       "      <th>max</th>\n",
       "      <td>81000.000000</td>\n",
       "      <td>41667.000000</td>\n",
       "      <td>700.000000</td>\n",
       "      <td>480.00000</td>\n",
       "      <td>1.000000</td>\n",
       "    </tr>\n",
       "  </tbody>\n",
       "</table>\n",
       "</div>"
      ],
      "text/plain": [
       "       ApplicantIncome  CoapplicantIncome  LoanAmount  Loan_Amount_Term  \\\n",
       "count       614.000000         614.000000  592.000000         600.00000   \n",
       "mean       5403.459283        1621.245798  146.412162         342.00000   \n",
       "std        6109.041673        2926.248369   85.587325          65.12041   \n",
       "min         150.000000           0.000000    9.000000          12.00000   \n",
       "25%        2877.500000           0.000000  100.000000         360.00000   \n",
       "50%        3812.500000        1188.500000  128.000000         360.00000   \n",
       "75%        5795.000000        2297.250000  168.000000         360.00000   \n",
       "max       81000.000000       41667.000000  700.000000         480.00000   \n",
       "\n",
       "       Credit_History  \n",
       "count      564.000000  \n",
       "mean         0.842199  \n",
       "std          0.364878  \n",
       "min          0.000000  \n",
       "25%          1.000000  \n",
       "50%          1.000000  \n",
       "75%          1.000000  \n",
       "max          1.000000  "
      ]
     },
     "execution_count": 388,
     "metadata": {},
     "output_type": "execute_result"
    }
   ],
   "source": [
    "df.describe()"
   ]
  },
  {
   "cell_type": "code",
   "execution_count": 390,
   "id": "7604a0fc-8f87-4031-af80-68bcaa9a58c2",
   "metadata": {},
   "outputs": [
    {
     "data": {
      "text/plain": [
       "Loan_ID               object\n",
       "Gender                object\n",
       "Married               object\n",
       "Dependents            object\n",
       "Education             object\n",
       "Self_Employed         object\n",
       "ApplicantIncome        int64\n",
       "CoapplicantIncome    float64\n",
       "LoanAmount           float64\n",
       "Loan_Amount_Term     float64\n",
       "Credit_History       float64\n",
       "Property_Area         object\n",
       "Loan_Status           object\n",
       "dtype: object"
      ]
     },
     "execution_count": 390,
     "metadata": {},
     "output_type": "execute_result"
    }
   ],
   "source": [
    "df.dtypes"
   ]
  },
  {
   "cell_type": "code",
   "execution_count": 392,
   "id": "e518e568-e631-4ee2-99fc-1fdba93ea6d6",
   "metadata": {},
   "outputs": [
    {
     "data": {
      "text/plain": [
       "Loan_ID               0\n",
       "Gender               13\n",
       "Married               3\n",
       "Dependents           15\n",
       "Education             0\n",
       "Self_Employed        32\n",
       "ApplicantIncome       0\n",
       "CoapplicantIncome     0\n",
       "LoanAmount           22\n",
       "Loan_Amount_Term     14\n",
       "Credit_History       50\n",
       "Property_Area         0\n",
       "Loan_Status           0\n",
       "dtype: int64"
      ]
     },
     "execution_count": 392,
     "metadata": {},
     "output_type": "execute_result"
    }
   ],
   "source": [
    "df.isnull().sum()"
   ]
  },
  {
   "cell_type": "code",
   "execution_count": 394,
   "id": "bfbab92f-a991-46d9-9532-92870bce82e7",
   "metadata": {},
   "outputs": [],
   "source": [
    "df_num=df.select_dtypes(include=[np.number])\n",
    "df_cat=df.select_dtypes(include=['object']) "
   ]
  },
  {
   "cell_type": "code",
   "execution_count": 396,
   "id": "74f9711f-ff15-4ba1-a193-afc76c471ad0",
   "metadata": {},
   "outputs": [
    {
     "data": {
      "text/html": [
       "<div>\n",
       "<style scoped>\n",
       "    .dataframe tbody tr th:only-of-type {\n",
       "        vertical-align: middle;\n",
       "    }\n",
       "\n",
       "    .dataframe tbody tr th {\n",
       "        vertical-align: top;\n",
       "    }\n",
       "\n",
       "    .dataframe thead th {\n",
       "        text-align: right;\n",
       "    }\n",
       "</style>\n",
       "<table border=\"1\" class=\"dataframe\">\n",
       "  <thead>\n",
       "    <tr style=\"text-align: right;\">\n",
       "      <th></th>\n",
       "      <th>ApplicantIncome</th>\n",
       "      <th>CoapplicantIncome</th>\n",
       "      <th>LoanAmount</th>\n",
       "      <th>Loan_Amount_Term</th>\n",
       "      <th>Credit_History</th>\n",
       "    </tr>\n",
       "  </thead>\n",
       "  <tbody>\n",
       "    <tr>\n",
       "      <th>count</th>\n",
       "      <td>614.000000</td>\n",
       "      <td>614.000000</td>\n",
       "      <td>592.000000</td>\n",
       "      <td>600.00000</td>\n",
       "      <td>564.000000</td>\n",
       "    </tr>\n",
       "    <tr>\n",
       "      <th>mean</th>\n",
       "      <td>5403.459283</td>\n",
       "      <td>1621.245798</td>\n",
       "      <td>146.412162</td>\n",
       "      <td>342.00000</td>\n",
       "      <td>0.842199</td>\n",
       "    </tr>\n",
       "    <tr>\n",
       "      <th>std</th>\n",
       "      <td>6109.041673</td>\n",
       "      <td>2926.248369</td>\n",
       "      <td>85.587325</td>\n",
       "      <td>65.12041</td>\n",
       "      <td>0.364878</td>\n",
       "    </tr>\n",
       "    <tr>\n",
       "      <th>min</th>\n",
       "      <td>150.000000</td>\n",
       "      <td>0.000000</td>\n",
       "      <td>9.000000</td>\n",
       "      <td>12.00000</td>\n",
       "      <td>0.000000</td>\n",
       "    </tr>\n",
       "    <tr>\n",
       "      <th>25%</th>\n",
       "      <td>2877.500000</td>\n",
       "      <td>0.000000</td>\n",
       "      <td>100.000000</td>\n",
       "      <td>360.00000</td>\n",
       "      <td>1.000000</td>\n",
       "    </tr>\n",
       "    <tr>\n",
       "      <th>50%</th>\n",
       "      <td>3812.500000</td>\n",
       "      <td>1188.500000</td>\n",
       "      <td>128.000000</td>\n",
       "      <td>360.00000</td>\n",
       "      <td>1.000000</td>\n",
       "    </tr>\n",
       "    <tr>\n",
       "      <th>75%</th>\n",
       "      <td>5795.000000</td>\n",
       "      <td>2297.250000</td>\n",
       "      <td>168.000000</td>\n",
       "      <td>360.00000</td>\n",
       "      <td>1.000000</td>\n",
       "    </tr>\n",
       "    <tr>\n",
       "      <th>max</th>\n",
       "      <td>81000.000000</td>\n",
       "      <td>41667.000000</td>\n",
       "      <td>700.000000</td>\n",
       "      <td>480.00000</td>\n",
       "      <td>1.000000</td>\n",
       "    </tr>\n",
       "  </tbody>\n",
       "</table>\n",
       "</div>"
      ],
      "text/plain": [
       "       ApplicantIncome  CoapplicantIncome  LoanAmount  Loan_Amount_Term  \\\n",
       "count       614.000000         614.000000  592.000000         600.00000   \n",
       "mean       5403.459283        1621.245798  146.412162         342.00000   \n",
       "std        6109.041673        2926.248369   85.587325          65.12041   \n",
       "min         150.000000           0.000000    9.000000          12.00000   \n",
       "25%        2877.500000           0.000000  100.000000         360.00000   \n",
       "50%        3812.500000        1188.500000  128.000000         360.00000   \n",
       "75%        5795.000000        2297.250000  168.000000         360.00000   \n",
       "max       81000.000000       41667.000000  700.000000         480.00000   \n",
       "\n",
       "       Credit_History  \n",
       "count      564.000000  \n",
       "mean         0.842199  \n",
       "std          0.364878  \n",
       "min          0.000000  \n",
       "25%          1.000000  \n",
       "50%          1.000000  \n",
       "75%          1.000000  \n",
       "max          1.000000  "
      ]
     },
     "execution_count": 396,
     "metadata": {},
     "output_type": "execute_result"
    }
   ],
   "source": [
    "df_num.describe()"
   ]
  },
  {
   "cell_type": "code",
   "execution_count": 397,
   "id": "de8c07c2-af9c-402d-a820-33fe6b3815fd",
   "metadata": {},
   "outputs": [
    {
     "data": {
      "text/html": [
       "<div>\n",
       "<style scoped>\n",
       "    .dataframe tbody tr th:only-of-type {\n",
       "        vertical-align: middle;\n",
       "    }\n",
       "\n",
       "    .dataframe tbody tr th {\n",
       "        vertical-align: top;\n",
       "    }\n",
       "\n",
       "    .dataframe thead th {\n",
       "        text-align: right;\n",
       "    }\n",
       "</style>\n",
       "<table border=\"1\" class=\"dataframe\">\n",
       "  <thead>\n",
       "    <tr style=\"text-align: right;\">\n",
       "      <th></th>\n",
       "      <th>Loan_ID</th>\n",
       "      <th>Gender</th>\n",
       "      <th>Married</th>\n",
       "      <th>Dependents</th>\n",
       "      <th>Education</th>\n",
       "      <th>Self_Employed</th>\n",
       "      <th>Property_Area</th>\n",
       "      <th>Loan_Status</th>\n",
       "    </tr>\n",
       "  </thead>\n",
       "  <tbody>\n",
       "    <tr>\n",
       "      <th>count</th>\n",
       "      <td>614</td>\n",
       "      <td>601</td>\n",
       "      <td>611</td>\n",
       "      <td>599</td>\n",
       "      <td>614</td>\n",
       "      <td>582</td>\n",
       "      <td>614</td>\n",
       "      <td>614</td>\n",
       "    </tr>\n",
       "    <tr>\n",
       "      <th>unique</th>\n",
       "      <td>614</td>\n",
       "      <td>2</td>\n",
       "      <td>2</td>\n",
       "      <td>4</td>\n",
       "      <td>2</td>\n",
       "      <td>2</td>\n",
       "      <td>3</td>\n",
       "      <td>2</td>\n",
       "    </tr>\n",
       "    <tr>\n",
       "      <th>top</th>\n",
       "      <td>LP001002</td>\n",
       "      <td>Male</td>\n",
       "      <td>Yes</td>\n",
       "      <td>0</td>\n",
       "      <td>Graduate</td>\n",
       "      <td>No</td>\n",
       "      <td>Semiurban</td>\n",
       "      <td>Y</td>\n",
       "    </tr>\n",
       "    <tr>\n",
       "      <th>freq</th>\n",
       "      <td>1</td>\n",
       "      <td>489</td>\n",
       "      <td>398</td>\n",
       "      <td>345</td>\n",
       "      <td>480</td>\n",
       "      <td>500</td>\n",
       "      <td>233</td>\n",
       "      <td>422</td>\n",
       "    </tr>\n",
       "  </tbody>\n",
       "</table>\n",
       "</div>"
      ],
      "text/plain": [
       "         Loan_ID Gender Married Dependents Education Self_Employed  \\\n",
       "count        614    601     611        599       614           582   \n",
       "unique       614      2       2          4         2             2   \n",
       "top     LP001002   Male     Yes          0  Graduate            No   \n",
       "freq           1    489     398        345       480           500   \n",
       "\n",
       "       Property_Area Loan_Status  \n",
       "count            614         614  \n",
       "unique             3           2  \n",
       "top        Semiurban           Y  \n",
       "freq             233         422  "
      ]
     },
     "execution_count": 397,
     "metadata": {},
     "output_type": "execute_result"
    }
   ],
   "source": [
    "df_cat.describe(include='all')"
   ]
  },
  {
   "cell_type": "code",
   "execution_count": 400,
   "id": "a3cc6f79-32cb-4be6-bdaf-4fc3c2699248",
   "metadata": {},
   "outputs": [
    {
     "data": {
      "text/plain": [
       "Credit_History       50\n",
       "LoanAmount           22\n",
       "Loan_Amount_Term     14\n",
       "ApplicantIncome       0\n",
       "CoapplicantIncome     0\n",
       "dtype: int64"
      ]
     },
     "execution_count": 400,
     "metadata": {},
     "output_type": "execute_result"
    }
   ],
   "source": [
    "df_num.isnull().sum().sort_values(ascending=False)"
   ]
  },
  {
   "cell_type": "code",
   "execution_count": 401,
   "id": "1dd599bf-2ebe-4d72-b7ba-0430d699a8a1",
   "metadata": {},
   "outputs": [
    {
     "data": {
      "text/plain": [
       "Self_Employed    32\n",
       "Dependents       15\n",
       "Gender           13\n",
       "Married           3\n",
       "Loan_ID           0\n",
       "Education         0\n",
       "Property_Area     0\n",
       "Loan_Status       0\n",
       "dtype: int64"
      ]
     },
     "execution_count": 401,
     "metadata": {},
     "output_type": "execute_result"
    }
   ],
   "source": [
    "df_cat.isnull().sum().sort_values(ascending=False)"
   ]
  },
  {
   "cell_type": "markdown",
   "id": "dc4de6ca-eb29-452f-830f-9035b05dedae",
   "metadata": {},
   "source": [
    "# Imputation of Numerical columns"
   ]
  },
  {
   "cell_type": "code",
   "execution_count": 424,
   "id": "d969b020-2138-48a5-8f47-f9fa61d1c8d6",
   "metadata": {},
   "outputs": [
    {
     "name": "stderr",
     "output_type": "stream",
     "text": [
      "C:\\Users\\akhil\\AppData\\Local\\Temp\\ipykernel_13028\\3111084037.py:2: FutureWarning: A value is trying to be set on a copy of a DataFrame or Series through chained assignment using an inplace method.\n",
      "The behavior will change in pandas 3.0. This inplace method will never work because the intermediate object on which we are setting values always behaves as a copy.\n",
      "\n",
      "For example, when doing 'df[col].method(value, inplace=True)', try using 'df.method({col: value}, inplace=True)' or df[col] = df[col].method(value) instead, to perform the operation inplace on the original object.\n",
      "\n",
      "\n",
      "  df_num[col].fillna(df_num[col].median(),inplace=True)\n"
     ]
    }
   ],
   "source": [
    "for col in [\"Credit_History\",\"LoanAmount\",\"Loan_Amount_Term\"]:\n",
    "    df_num[col].fillna(df_num[col].median(),inplace=True)"
   ]
  },
  {
   "cell_type": "code",
   "execution_count": 426,
   "id": "264c7cca-7534-4cb3-8a28-57007ea3e69d",
   "metadata": {},
   "outputs": [
    {
     "data": {
      "text/plain": [
       "ApplicantIncome      0\n",
       "CoapplicantIncome    0\n",
       "LoanAmount           0\n",
       "Loan_Amount_Term     0\n",
       "Credit_History       0\n",
       "dtype: int64"
      ]
     },
     "execution_count": 426,
     "metadata": {},
     "output_type": "execute_result"
    }
   ],
   "source": [
    "df_num.isnull().sum().sort_values(ascending=False)"
   ]
  },
  {
   "cell_type": "markdown",
   "id": "ad7818a8-5453-4c4c-8497-19241a9a0e6b",
   "metadata": {},
   "source": [
    "# Imputation for catgorical columns"
   ]
  },
  {
   "cell_type": "code",
   "execution_count": 429,
   "id": "4d40fc22-6726-40b3-9143-9b652d094e0d",
   "metadata": {},
   "outputs": [
    {
     "name": "stderr",
     "output_type": "stream",
     "text": [
      "C:\\Users\\akhil\\AppData\\Local\\Temp\\ipykernel_13028\\159940024.py:2: FutureWarning: A value is trying to be set on a copy of a DataFrame or Series through chained assignment using an inplace method.\n",
      "The behavior will change in pandas 3.0. This inplace method will never work because the intermediate object on which we are setting values always behaves as a copy.\n",
      "\n",
      "For example, when doing 'df[col].method(value, inplace=True)', try using 'df.method({col: value}, inplace=True)' or df[col] = df[col].method(value) instead, to perform the operation inplace on the original object.\n",
      "\n",
      "\n",
      "  df_cat[col].fillna(df_cat[col].value_counts().idxmax(),inplace=True)\n",
      "C:\\Users\\akhil\\AppData\\Local\\Temp\\ipykernel_13028\\159940024.py:2: FutureWarning: A value is trying to be set on a copy of a DataFrame or Series through chained assignment using an inplace method.\n",
      "The behavior will change in pandas 3.0. This inplace method will never work because the intermediate object on which we are setting values always behaves as a copy.\n",
      "\n",
      "For example, when doing 'df[col].method(value, inplace=True)', try using 'df.method({col: value}, inplace=True)' or df[col] = df[col].method(value) instead, to perform the operation inplace on the original object.\n",
      "\n",
      "\n",
      "  df_cat[col].fillna(df_cat[col].value_counts().idxmax(),inplace=True)\n",
      "C:\\Users\\akhil\\AppData\\Local\\Temp\\ipykernel_13028\\159940024.py:2: FutureWarning: A value is trying to be set on a copy of a DataFrame or Series through chained assignment using an inplace method.\n",
      "The behavior will change in pandas 3.0. This inplace method will never work because the intermediate object on which we are setting values always behaves as a copy.\n",
      "\n",
      "For example, when doing 'df[col].method(value, inplace=True)', try using 'df.method({col: value}, inplace=True)' or df[col] = df[col].method(value) instead, to perform the operation inplace on the original object.\n",
      "\n",
      "\n",
      "  df_cat[col].fillna(df_cat[col].value_counts().idxmax(),inplace=True)\n",
      "C:\\Users\\akhil\\AppData\\Local\\Temp\\ipykernel_13028\\159940024.py:2: FutureWarning: A value is trying to be set on a copy of a DataFrame or Series through chained assignment using an inplace method.\n",
      "The behavior will change in pandas 3.0. This inplace method will never work because the intermediate object on which we are setting values always behaves as a copy.\n",
      "\n",
      "For example, when doing 'df[col].method(value, inplace=True)', try using 'df.method({col: value}, inplace=True)' or df[col] = df[col].method(value) instead, to perform the operation inplace on the original object.\n",
      "\n",
      "\n",
      "  df_cat[col].fillna(df_cat[col].value_counts().idxmax(),inplace=True)\n"
     ]
    }
   ],
   "source": [
    "for col in [\"Self_Employed\",\"Dependents\",\"Gender\",\"Married\"]:\n",
    "    df_cat[col].fillna(df_cat[col].value_counts().idxmax(),inplace=True)"
   ]
  },
  {
   "cell_type": "code",
   "execution_count": 431,
   "id": "96aef104-7dec-456b-a6bc-be281b52c926",
   "metadata": {},
   "outputs": [
    {
     "data": {
      "text/plain": [
       "Loan_ID          0\n",
       "Gender           0\n",
       "Married          0\n",
       "Dependents       0\n",
       "Education        0\n",
       "Self_Employed    0\n",
       "Property_Area    0\n",
       "Loan_Status      0\n",
       "dtype: int64"
      ]
     },
     "execution_count": 431,
     "metadata": {},
     "output_type": "execute_result"
    }
   ],
   "source": [
    "df_cat.isnull().sum().sort_values(ascending=False)"
   ]
  },
  {
   "cell_type": "markdown",
   "id": "21278fed-2231-43f8-a257-de05abb51a62",
   "metadata": {},
   "source": [
    "# Correlationship between numerical columns and numerical target"
   ]
  },
  {
   "cell_type": "code",
   "execution_count": 433,
   "id": "f5f4ddda-3f03-4f7f-8415-d4e42f7939d0",
   "metadata": {},
   "outputs": [],
   "source": [
    "df_num_corr=df_num.corr()"
   ]
  },
  {
   "cell_type": "code",
   "execution_count": 438,
   "id": "3da9af58-3f49-453f-a16e-9cc653f8ddcc",
   "metadata": {},
   "outputs": [],
   "source": [
    "df['Loan_Status'] = df['Loan_Status'].map({'Y': 1, 'N': 0})"
   ]
  },
  {
   "cell_type": "code",
   "execution_count": 440,
   "id": "3500444f-ddf1-44b2-83ad-866c293aa711",
   "metadata": {},
   "outputs": [],
   "source": [
    "df_num= df.select_dtypes(include=['int64', 'float64'])"
   ]
  },
  {
   "cell_type": "code",
   "execution_count": 442,
   "id": "cddba34c-af43-4e68-85d1-5298fcbee4ef",
   "metadata": {},
   "outputs": [
    {
     "name": "stdout",
     "output_type": "stream",
     "text": [
      "ApplicantIncome     -0.004710\n",
      "CoapplicantIncome   -0.059187\n",
      "LoanAmount          -0.037318\n",
      "Loan_Amount_Term    -0.021268\n",
      "Credit_History       0.561678\n",
      "Loan_Status          1.000000\n",
      "Name: Loan_Status, dtype: float64\n"
     ]
    }
   ],
   "source": [
    "correlation_matrix = df_num.corr()\n",
    "print(correlation_matrix['Loan_Status'])"
   ]
  },
  {
   "cell_type": "markdown",
   "id": "10ebce74-cfd4-4746-95a8-92227654c40b",
   "metadata": {},
   "source": [
    "# Correlationship between categorical columns and continous target variable using one way ANNOVA"
   ]
  },
  {
   "cell_type": "code",
   "execution_count": 447,
   "id": "81b56fcd-31e5-407f-ab2f-2834ca48528c",
   "metadata": {},
   "outputs": [],
   "source": [
    "from scipy.stats import f_oneway"
   ]
  },
  {
   "cell_type": "code",
   "execution_count": 449,
   "id": "447a6788-c391-4e02-9b2c-3470bf846e17",
   "metadata": {},
   "outputs": [],
   "source": [
    "df_cat['ls']=df_num['Loan_Status']"
   ]
  },
  {
   "cell_type": "code",
   "execution_count": 451,
   "id": "b50d64b9-e2e5-4056-bbe6-f18d418d94b2",
   "metadata": {},
   "outputs": [
    {
     "name": "stdout",
     "output_type": "stream",
     "text": [
      "F-statistic: 5.164551722656315, P-value: 0.02339836279661985\n"
     ]
    }
   ],
   "source": [
    "groups = [df_cat['ls'][df_cat['Married'] == category] for category in df_cat['Married'].unique()]\n",
    "\n",
    "# Perform ANOVA\n",
    "f_stat, p_value = f_oneway(*groups)\n",
    "print(f\"F-statistic: {f_stat}, P-value: {p_value}\")"
   ]
  },
  {
   "cell_type": "code",
   "execution_count": 455,
   "id": "97cc003a-dd67-461f-a8c2-d3bdff426dd5",
   "metadata": {},
   "outputs": [
    {
     "name": "stdout",
     "output_type": "stream",
     "text": [
      "column : Loan_ID, F-statistic: nan, P-value: nan\n",
      "column : Gender, F-statistic: 0.19805868994529022, P-value: 0.656449758464281\n",
      "column : Married, F-statistic: 5.164551722656315, P-value: 0.02339836279661985\n",
      "column : Dependents, F-statistic: 1.0490070085062186, P-value: 0.3703188306348489\n",
      "column : Education, F-statistic: 4.547684575841726, P-value: 0.03336067753728906\n",
      "column : Self_Employed, F-statistic: 0.00838037719537718, P-value: 0.9270899835542965\n",
      "column : Property_Area, F-statistic: 6.243824207425567, P-value: 0.002068617689238754\n",
      "column : Loan_Status, F-statistic: inf, P-value: 0.0\n"
     ]
    },
    {
     "name": "stderr",
     "output_type": "stream",
     "text": [
      "C:\\Users\\akhil\\anaconda3\\Lib\\site-packages\\scipy\\stats\\_stats_py.py:4102: DegenerateDataWarning: all input arrays have length 1.  f_oneway requires that at least one input has length greater than 1.\n",
      "  if _f_oneway_is_too_small(samples):\n",
      "C:\\Users\\akhil\\anaconda3\\Lib\\site-packages\\scipy\\stats\\_axis_nan_policy.py:531: ConstantInputWarning: Each of the input arrays is constant; the F statistic is not defined or infinite\n",
      "  res = hypotest_fun_out(*samples, **kwds)\n"
     ]
    }
   ],
   "source": [
    "#This will store the names of categorical columns that are significantly associated with 'sp'.\n",
    "c_list=[]\n",
    "#This will store the names of columns that are not significantly associated with 'sp'.\n",
    "nc_list=[]\n",
    "for c1 in list(df_cat.columns):\n",
    "    if c1=='ls':\n",
    "        continue\n",
    "    else:\n",
    "        groups=[df_cat['ls'][df_cat[c1] == category] for category in df_cat[c1].unique()]\n",
    "        f_stat, p_value = f_oneway(*groups)\n",
    "        print(f\"column : {c1}, F-statistic: {f_stat}, P-value: {p_value}\")\n",
    "        if p_value < 0.05:\n",
    "            c_list.append(c1)\n",
    "        else:\n",
    "            nc_list.append(c1)\n"
   ]
  },
  {
   "cell_type": "code",
   "execution_count": 457,
   "id": "19230528-38be-4aca-b93a-cd9d1d246e26",
   "metadata": {},
   "outputs": [
    {
     "data": {
      "text/plain": [
       "['Married', 'Education', 'Property_Area', 'Loan_Status']"
      ]
     },
     "execution_count": 457,
     "metadata": {},
     "output_type": "execute_result"
    }
   ],
   "source": [
    "c_list"
   ]
  },
  {
   "cell_type": "code",
   "execution_count": 459,
   "id": "58a0ee74-966b-4087-be8f-3076b9e4aae8",
   "metadata": {},
   "outputs": [
    {
     "data": {
      "text/plain": [
       "['Loan_ID', 'Gender', 'Dependents', 'Self_Employed']"
      ]
     },
     "execution_count": 459,
     "metadata": {},
     "output_type": "execute_result"
    }
   ],
   "source": [
    "nc_list"
   ]
  },
  {
   "cell_type": "code",
   "execution_count": 461,
   "id": "99c19aa7-3ea2-45d9-b702-441e766baf57",
   "metadata": {},
   "outputs": [],
   "source": [
    "df_cat1=df_cat[c_list]"
   ]
  },
  {
   "cell_type": "code",
   "execution_count": 463,
   "id": "6a3802c9-e56f-40ea-a846-d97c66b54a08",
   "metadata": {},
   "outputs": [
    {
     "data": {
      "text/plain": [
       "Index(['Married', 'Education', 'Property_Area', 'Loan_Status'], dtype='object')"
      ]
     },
     "execution_count": 463,
     "metadata": {},
     "output_type": "execute_result"
    }
   ],
   "source": [
    "df_cat1.columns"
   ]
  },
  {
   "cell_type": "code",
   "execution_count": 465,
   "id": "9fb286e6-50ec-48c3-9784-66920a8bc09c",
   "metadata": {},
   "outputs": [
    {
     "data": {
      "text/html": [
       "<div>\n",
       "<style scoped>\n",
       "    .dataframe tbody tr th:only-of-type {\n",
       "        vertical-align: middle;\n",
       "    }\n",
       "\n",
       "    .dataframe tbody tr th {\n",
       "        vertical-align: top;\n",
       "    }\n",
       "\n",
       "    .dataframe thead th {\n",
       "        text-align: right;\n",
       "    }\n",
       "</style>\n",
       "<table border=\"1\" class=\"dataframe\">\n",
       "  <thead>\n",
       "    <tr style=\"text-align: right;\">\n",
       "      <th></th>\n",
       "      <th>Married</th>\n",
       "      <th>Education</th>\n",
       "      <th>Property_Area</th>\n",
       "      <th>Loan_Status</th>\n",
       "    </tr>\n",
       "  </thead>\n",
       "  <tbody>\n",
       "    <tr>\n",
       "      <th>0</th>\n",
       "      <td>No</td>\n",
       "      <td>Graduate</td>\n",
       "      <td>Urban</td>\n",
       "      <td>Y</td>\n",
       "    </tr>\n",
       "    <tr>\n",
       "      <th>1</th>\n",
       "      <td>Yes</td>\n",
       "      <td>Graduate</td>\n",
       "      <td>Rural</td>\n",
       "      <td>N</td>\n",
       "    </tr>\n",
       "    <tr>\n",
       "      <th>2</th>\n",
       "      <td>Yes</td>\n",
       "      <td>Graduate</td>\n",
       "      <td>Urban</td>\n",
       "      <td>Y</td>\n",
       "    </tr>\n",
       "    <tr>\n",
       "      <th>3</th>\n",
       "      <td>Yes</td>\n",
       "      <td>Not Graduate</td>\n",
       "      <td>Urban</td>\n",
       "      <td>Y</td>\n",
       "    </tr>\n",
       "    <tr>\n",
       "      <th>4</th>\n",
       "      <td>No</td>\n",
       "      <td>Graduate</td>\n",
       "      <td>Urban</td>\n",
       "      <td>Y</td>\n",
       "    </tr>\n",
       "  </tbody>\n",
       "</table>\n",
       "</div>"
      ],
      "text/plain": [
       "  Married     Education Property_Area Loan_Status\n",
       "0      No      Graduate         Urban           Y\n",
       "1     Yes      Graduate         Rural           N\n",
       "2     Yes      Graduate         Urban           Y\n",
       "3     Yes  Not Graduate         Urban           Y\n",
       "4      No      Graduate         Urban           Y"
      ]
     },
     "execution_count": 465,
     "metadata": {},
     "output_type": "execute_result"
    }
   ],
   "source": [
    "df_cat1.head()"
   ]
  },
  {
   "cell_type": "markdown",
   "id": "d12ebb11-343b-4d30-8ea0-d1b164eec623",
   "metadata": {},
   "source": [
    "# LabelEncoding"
   ]
  },
  {
   "cell_type": "code",
   "execution_count": 468,
   "id": "b0e5528a-7d28-4400-a6ce-b91610469956",
   "metadata": {},
   "outputs": [],
   "source": [
    "from sklearn.preprocessing import LabelEncoder"
   ]
  },
  {
   "cell_type": "code",
   "execution_count": 470,
   "id": "c5c054f9-5697-4ef7-a26b-c11add6451fb",
   "metadata": {},
   "outputs": [],
   "source": [
    "le=LabelEncoder()"
   ]
  },
  {
   "cell_type": "code",
   "execution_count": 472,
   "id": "54d9d85d-5d15-4daf-9c8b-fbcc6b3c0825",
   "metadata": {},
   "outputs": [],
   "source": [
    "df_cat1_e=df_cat1.apply(le.fit_transform)"
   ]
  },
  {
   "cell_type": "code",
   "execution_count": 473,
   "id": "3f6a49fd-ddbd-4ecd-9eca-62de1e2ef5ec",
   "metadata": {},
   "outputs": [
    {
     "data": {
      "text/html": [
       "<div>\n",
       "<style scoped>\n",
       "    .dataframe tbody tr th:only-of-type {\n",
       "        vertical-align: middle;\n",
       "    }\n",
       "\n",
       "    .dataframe tbody tr th {\n",
       "        vertical-align: top;\n",
       "    }\n",
       "\n",
       "    .dataframe thead th {\n",
       "        text-align: right;\n",
       "    }\n",
       "</style>\n",
       "<table border=\"1\" class=\"dataframe\">\n",
       "  <thead>\n",
       "    <tr style=\"text-align: right;\">\n",
       "      <th></th>\n",
       "      <th>Married</th>\n",
       "      <th>Education</th>\n",
       "      <th>Property_Area</th>\n",
       "      <th>Loan_Status</th>\n",
       "    </tr>\n",
       "  </thead>\n",
       "  <tbody>\n",
       "    <tr>\n",
       "      <th>0</th>\n",
       "      <td>0</td>\n",
       "      <td>0</td>\n",
       "      <td>2</td>\n",
       "      <td>1</td>\n",
       "    </tr>\n",
       "    <tr>\n",
       "      <th>1</th>\n",
       "      <td>1</td>\n",
       "      <td>0</td>\n",
       "      <td>0</td>\n",
       "      <td>0</td>\n",
       "    </tr>\n",
       "    <tr>\n",
       "      <th>2</th>\n",
       "      <td>1</td>\n",
       "      <td>0</td>\n",
       "      <td>2</td>\n",
       "      <td>1</td>\n",
       "    </tr>\n",
       "    <tr>\n",
       "      <th>3</th>\n",
       "      <td>1</td>\n",
       "      <td>1</td>\n",
       "      <td>2</td>\n",
       "      <td>1</td>\n",
       "    </tr>\n",
       "    <tr>\n",
       "      <th>4</th>\n",
       "      <td>0</td>\n",
       "      <td>0</td>\n",
       "      <td>2</td>\n",
       "      <td>1</td>\n",
       "    </tr>\n",
       "  </tbody>\n",
       "</table>\n",
       "</div>"
      ],
      "text/plain": [
       "   Married  Education  Property_Area  Loan_Status\n",
       "0        0          0              2            1\n",
       "1        1          0              0            0\n",
       "2        1          0              2            1\n",
       "3        1          1              2            1\n",
       "4        0          0              2            1"
      ]
     },
     "execution_count": 473,
     "metadata": {},
     "output_type": "execute_result"
    }
   ],
   "source": [
    "df_cat1_e.head()"
   ]
  },
  {
   "cell_type": "code",
   "execution_count": 476,
   "id": "b6005312-930a-48c6-b612-4ea50e7d695c",
   "metadata": {},
   "outputs": [
    {
     "data": {
      "text/plain": [
       "(614, 4)"
      ]
     },
     "execution_count": 476,
     "metadata": {},
     "output_type": "execute_result"
    }
   ],
   "source": [
    "df_cat1.shape"
   ]
  },
  {
   "cell_type": "markdown",
   "id": "1da1769c-4e6d-4673-a901-ee0cfa547942",
   "metadata": {},
   "source": [
    "# Onehot encoding method1"
   ]
  },
  {
   "cell_type": "code",
   "execution_count": 479,
   "id": "b688da86-69d9-4433-b326-e0dbba93b4e9",
   "metadata": {},
   "outputs": [],
   "source": [
    "df_encoded = pd.get_dummies(df_cat1, columns=df_cat1.columns)"
   ]
  },
  {
   "cell_type": "code",
   "execution_count": 481,
   "id": "124f85bc-30a3-4d2b-a201-9dc329316d93",
   "metadata": {},
   "outputs": [
    {
     "data": {
      "text/plain": [
       "(614, 9)"
      ]
     },
     "execution_count": 481,
     "metadata": {},
     "output_type": "execute_result"
    }
   ],
   "source": [
    "df_encoded.shape"
   ]
  },
  {
   "cell_type": "markdown",
   "id": "69fa3e7b-b624-49ba-86b1-a93675c7e291",
   "metadata": {},
   "source": [
    "# method2"
   ]
  },
  {
   "cell_type": "code",
   "execution_count": 484,
   "id": "7030dfa8-b11e-45fd-97b2-442af2358505",
   "metadata": {},
   "outputs": [],
   "source": [
    "from sklearn.preprocessing import OneHotEncoder"
   ]
  },
  {
   "cell_type": "code",
   "execution_count": 486,
   "id": "44f1660c-cd6c-4c85-bd88-0a5f0a149822",
   "metadata": {},
   "outputs": [],
   "source": [
    "encoder = OneHotEncoder(sparse_output=False, handle_unknown='ignore')"
   ]
  },
  {
   "cell_type": "code",
   "execution_count": 488,
   "id": "f024c240-44a0-41fd-9ff3-39bc7e43b798",
   "metadata": {},
   "outputs": [],
   "source": [
    "encoded_array = encoder.fit_transform(df_cat1)\n",
    "\n",
    "encoded_df = pd.DataFrame(encoded_array, columns=encoder.get_feature_names_out(df_cat1.columns))\n"
   ]
  },
  {
   "cell_type": "code",
   "execution_count": 490,
   "id": "79633613-9a7d-4008-a368-a8476f2297c3",
   "metadata": {},
   "outputs": [
    {
     "data": {
      "text/plain": [
       "(614, 9)"
      ]
     },
     "execution_count": 490,
     "metadata": {},
     "output_type": "execute_result"
    }
   ],
   "source": [
    "encoded_df.shape"
   ]
  },
  {
   "cell_type": "markdown",
   "id": "ac613b99-9d5f-4c1f-9f3b-e060f5cdeb80",
   "metadata": {},
   "source": [
    "# Outlier treatment IQR"
   ]
  },
  {
   "cell_type": "code",
   "execution_count": 493,
   "id": "9628fef1-c69c-4c69-8b9e-d14e2357b3e2",
   "metadata": {},
   "outputs": [],
   "source": [
    "def remove_outliers_iqr(df, columns):\n",
    "    for col in columns:\n",
    "        Q1 = df[col].quantile(0.25)  # First quartile (25th percentile)\n",
    "        Q3 = df[col].quantile(0.75)  # Third quartile (75th percentile)\n",
    "        IQR = Q3 - Q1               # Interquartile range\n",
    "        lower_bound = Q1 - 1.5 * IQR  # Lower bound\n",
    "        upper_bound = Q3 + 1.5 * IQR  # Upper bound\n",
    "\n",
    "        # Remove outliers\n",
    "        df = df[(df[col] >= lower_bound) & (df[col] <= upper_bound)]\n",
    "    \n",
    "    return df"
   ]
  },
  {
   "cell_type": "code",
   "execution_count": 497,
   "id": "48a2a3d2-ffa0-44ed-a07d-a8205c082e2f",
   "metadata": {},
   "outputs": [
    {
     "name": "stdout",
     "output_type": "stream",
     "text": [
      "Original DataFrame:\n",
      "(614, 6)\n",
      "\n",
      "DataFrame after Outlier Treatment:\n",
      "(378, 6)\n"
     ]
    }
   ],
   "source": [
    "columns_to_check = ['Credit_History','Loan_Status']    \n",
    "\n",
    "df_no_outliers = remove_outliers_iqr(df_num, columns_to_check)\n",
    "\n",
    "print(\"Original DataFrame:\")\n",
    "print(df_num.shape)\n",
    "print(\"\\nDataFrame after Outlier Treatment:\")\n",
    "print(df_no_outliers.shape)"
   ]
  },
  {
   "cell_type": "code",
   "execution_count": 499,
   "id": "2af2fc10-0cf3-4b92-a36e-7cb08f7f2898",
   "metadata": {},
   "outputs": [
    {
     "data": {
      "text/plain": [
       "(614, 9)"
      ]
     },
     "execution_count": 499,
     "metadata": {},
     "output_type": "execute_result"
    }
   ],
   "source": [
    "encoded_df.shape"
   ]
  },
  {
   "cell_type": "code",
   "execution_count": 501,
   "id": "7197f741-cf33-4fa0-8b9b-1ca4f4e0dbe3",
   "metadata": {},
   "outputs": [
    {
     "data": {
      "text/plain": [
       "(378, 6)"
      ]
     },
     "execution_count": 501,
     "metadata": {},
     "output_type": "execute_result"
    }
   ],
   "source": [
    "df_no_outliers.shape"
   ]
  },
  {
   "cell_type": "code",
   "execution_count": 503,
   "id": "f1b8cad3-a0e8-4fcd-8173-4eaa8ee20f25",
   "metadata": {},
   "outputs": [],
   "source": [
    "df_f_cat=encoded_df.loc[df_no_outliers.index,:]"
   ]
  },
  {
   "cell_type": "markdown",
   "id": "359a303f-e3bc-4c17-9ea7-e725ef6af6cc",
   "metadata": {},
   "source": [
    "# MinMaxScaler scales features to a fixed range, typically [0,1](but can be customized)."
   ]
  },
  {
   "cell_type": "code",
   "execution_count": 506,
   "id": "c6ed931e-537b-42e3-bd2f-d3576ca472a6",
   "metadata": {},
   "outputs": [],
   "source": [
    "from sklearn.preprocessing import MinMaxScaler, StandardScaler"
   ]
  },
  {
   "cell_type": "code",
   "execution_count": 508,
   "id": "6d4698c8-a921-46d8-86d6-11db584a3fbe",
   "metadata": {},
   "outputs": [],
   "source": [
    "columns_to_scale =['Row ID','Postal Code','Sales','Quantity','Discount','Profit','Shipping Cost']    \n"
   ]
  },
  {
   "cell_type": "code",
   "execution_count": 360,
   "id": "6b612b3a-1309-4386-96d4-dae13b0fb006",
   "metadata": {},
   "outputs": [],
   "source": [
    "minmax_scaler = MinMaxScaler()\n",
    "df_minmax_scaled = df_no_outliers.copy()\n",
    "df_minmax_scaled[columns_to_scale] = minmax_scaler.fit_transform(df_no_outliers[columns_to_scale])\n"
   ]
  },
  {
   "cell_type": "code",
   "execution_count": 362,
   "id": "fee0e5a9-a551-4441-b5fb-7f135a448cf3",
   "metadata": {},
   "outputs": [
    {
     "data": {
      "text/html": [
       "<div>\n",
       "<style scoped>\n",
       "    .dataframe tbody tr th:only-of-type {\n",
       "        vertical-align: middle;\n",
       "    }\n",
       "\n",
       "    .dataframe tbody tr th {\n",
       "        vertical-align: top;\n",
       "    }\n",
       "\n",
       "    .dataframe thead th {\n",
       "        text-align: right;\n",
       "    }\n",
       "</style>\n",
       "<table border=\"1\" class=\"dataframe\">\n",
       "  <thead>\n",
       "    <tr style=\"text-align: right;\">\n",
       "      <th></th>\n",
       "      <th>Row ID</th>\n",
       "      <th>Postal Code</th>\n",
       "      <th>Sales</th>\n",
       "      <th>Quantity</th>\n",
       "      <th>Discount</th>\n",
       "      <th>Profit</th>\n",
       "      <th>Shipping Cost</th>\n",
       "    </tr>\n",
       "  </thead>\n",
       "  <tbody>\n",
       "    <tr>\n",
       "      <th>11866</th>\n",
       "      <td>0.183782</td>\n",
       "      <td>0.0</td>\n",
       "      <td>0.293173</td>\n",
       "      <td>0.000000</td>\n",
       "      <td>0.000000</td>\n",
       "      <td>0.735673</td>\n",
       "      <td>1.000000</td>\n",
       "    </tr>\n",
       "    <tr>\n",
       "      <th>11867</th>\n",
       "      <td>0.239934</td>\n",
       "      <td>0.0</td>\n",
       "      <td>0.429314</td>\n",
       "      <td>0.166667</td>\n",
       "      <td>0.000000</td>\n",
       "      <td>0.649534</td>\n",
       "      <td>1.000000</td>\n",
       "    </tr>\n",
       "    <tr>\n",
       "      <th>11868</th>\n",
       "      <td>0.569654</td>\n",
       "      <td>0.0</td>\n",
       "      <td>0.668531</td>\n",
       "      <td>0.333333</td>\n",
       "      <td>0.000000</td>\n",
       "      <td>0.516834</td>\n",
       "      <td>1.000000</td>\n",
       "    </tr>\n",
       "    <tr>\n",
       "      <th>11870</th>\n",
       "      <td>0.036246</td>\n",
       "      <td>0.0</td>\n",
       "      <td>0.295245</td>\n",
       "      <td>0.000000</td>\n",
       "      <td>0.003322</td>\n",
       "      <td>0.609120</td>\n",
       "      <td>1.000000</td>\n",
       "    </tr>\n",
       "    <tr>\n",
       "      <th>11871</th>\n",
       "      <td>0.407534</td>\n",
       "      <td>0.0</td>\n",
       "      <td>0.220067</td>\n",
       "      <td>0.333333</td>\n",
       "      <td>0.166113</td>\n",
       "      <td>0.426737</td>\n",
       "      <td>0.999629</td>\n",
       "    </tr>\n",
       "  </tbody>\n",
       "</table>\n",
       "</div>"
      ],
      "text/plain": [
       "         Row ID  Postal Code     Sales  Quantity  Discount    Profit  \\\n",
       "11866  0.183782          0.0  0.293173  0.000000  0.000000  0.735673   \n",
       "11867  0.239934          0.0  0.429314  0.166667  0.000000  0.649534   \n",
       "11868  0.569654          0.0  0.668531  0.333333  0.000000  0.516834   \n",
       "11870  0.036246          0.0  0.295245  0.000000  0.003322  0.609120   \n",
       "11871  0.407534          0.0  0.220067  0.333333  0.166113  0.426737   \n",
       "\n",
       "       Shipping Cost  \n",
       "11866       1.000000  \n",
       "11867       1.000000  \n",
       "11868       1.000000  \n",
       "11870       1.000000  \n",
       "11871       0.999629  "
      ]
     },
     "execution_count": 362,
     "metadata": {},
     "output_type": "execute_result"
    }
   ],
   "source": [
    "df_minmax_scaled.head()"
   ]
  },
  {
   "cell_type": "markdown",
   "id": "06284098-ee96-40cc-b7be-2eb1c39e6206",
   "metadata": {},
   "source": [
    "# It transforms the data so that it has a mean of 0 and a standard deviation of 1."
   ]
  },
  {
   "cell_type": "code",
   "execution_count": 365,
   "id": "5dba7625-77e8-405a-b4f3-d6099971f2ac",
   "metadata": {},
   "outputs": [],
   "source": [
    "standard_scaler = StandardScaler()\n",
    "df_standard_scaled = df_no_outliers.copy()\n",
    "df_standard_scaled[columns_to_scale] = standard_scaler.fit_transform(df_no_outliers[columns_to_scale])\n"
   ]
  },
  {
   "cell_type": "code",
   "execution_count": 367,
   "id": "0931e9c5-09c3-48e6-a127-01771f2f0e55",
   "metadata": {},
   "outputs": [
    {
     "data": {
      "text/html": [
       "<div>\n",
       "<style scoped>\n",
       "    .dataframe tbody tr th:only-of-type {\n",
       "        vertical-align: middle;\n",
       "    }\n",
       "\n",
       "    .dataframe tbody tr th {\n",
       "        vertical-align: top;\n",
       "    }\n",
       "\n",
       "    .dataframe thead th {\n",
       "        text-align: right;\n",
       "    }\n",
       "</style>\n",
       "<table border=\"1\" class=\"dataframe\">\n",
       "  <thead>\n",
       "    <tr style=\"text-align: right;\">\n",
       "      <th></th>\n",
       "      <th>Row ID</th>\n",
       "      <th>Postal Code</th>\n",
       "      <th>Sales</th>\n",
       "      <th>Quantity</th>\n",
       "      <th>Discount</th>\n",
       "      <th>Profit</th>\n",
       "      <th>Shipping Cost</th>\n",
       "    </tr>\n",
       "  </thead>\n",
       "  <tbody>\n",
       "    <tr>\n",
       "      <th>11866</th>\n",
       "      <td>-0.861868</td>\n",
       "      <td>0.0</td>\n",
       "      <td>1.372561</td>\n",
       "      <td>-1.092202</td>\n",
       "      <td>-0.603113</td>\n",
       "      <td>1.589405</td>\n",
       "      <td>3.269680</td>\n",
       "    </tr>\n",
       "    <tr>\n",
       "      <th>11867</th>\n",
       "      <td>-0.677319</td>\n",
       "      <td>0.0</td>\n",
       "      <td>2.474973</td>\n",
       "      <td>-0.462813</td>\n",
       "      <td>-0.603113</td>\n",
       "      <td>1.082556</td>\n",
       "      <td>3.269680</td>\n",
       "    </tr>\n",
       "    <tr>\n",
       "      <th>11868</th>\n",
       "      <td>0.406329</td>\n",
       "      <td>0.0</td>\n",
       "      <td>4.412057</td>\n",
       "      <td>0.166576</td>\n",
       "      <td>-0.603113</td>\n",
       "      <td>0.301735</td>\n",
       "      <td>3.269680</td>\n",
       "    </tr>\n",
       "    <tr>\n",
       "      <th>11870</th>\n",
       "      <td>-1.346757</td>\n",
       "      <td>0.0</td>\n",
       "      <td>1.389333</td>\n",
       "      <td>-1.092202</td>\n",
       "      <td>-0.592365</td>\n",
       "      <td>0.844755</td>\n",
       "      <td>3.269680</td>\n",
       "    </tr>\n",
       "    <tr>\n",
       "      <th>11871</th>\n",
       "      <td>-0.126492</td>\n",
       "      <td>0.0</td>\n",
       "      <td>0.780579</td>\n",
       "      <td>0.166576</td>\n",
       "      <td>-0.065700</td>\n",
       "      <td>-0.228401</td>\n",
       "      <td>3.268062</td>\n",
       "    </tr>\n",
       "  </tbody>\n",
       "</table>\n",
       "</div>"
      ],
      "text/plain": [
       "         Row ID  Postal Code     Sales  Quantity  Discount    Profit  \\\n",
       "11866 -0.861868          0.0  1.372561 -1.092202 -0.603113  1.589405   \n",
       "11867 -0.677319          0.0  2.474973 -0.462813 -0.603113  1.082556   \n",
       "11868  0.406329          0.0  4.412057  0.166576 -0.603113  0.301735   \n",
       "11870 -1.346757          0.0  1.389333 -1.092202 -0.592365  0.844755   \n",
       "11871 -0.126492          0.0  0.780579  0.166576 -0.065700 -0.228401   \n",
       "\n",
       "       Shipping Cost  \n",
       "11866       3.269680  \n",
       "11867       3.269680  \n",
       "11868       3.269680  \n",
       "11870       3.269680  \n",
       "11871       3.268062  "
      ]
     },
     "execution_count": 367,
     "metadata": {},
     "output_type": "execute_result"
    }
   ],
   "source": [
    "df_standard_scaled.head()"
   ]
  },
  {
   "cell_type": "code",
   "execution_count": 369,
   "id": "04ab9d3d-e592-443f-9a81-7ed441230a71",
   "metadata": {},
   "outputs": [],
   "source": [
    "final_df=pd.concat([df_standard_scaled,df_f_cat],axis=1)"
   ]
  },
  {
   "cell_type": "code",
   "execution_count": 370,
   "id": "eb6a0b2d-a95e-486f-bfbd-9a260d65cafe",
   "metadata": {},
   "outputs": [
    {
     "data": {
      "text/plain": [
       "(25882, 21898)"
      ]
     },
     "execution_count": 370,
     "metadata": {},
     "output_type": "execute_result"
    }
   ],
   "source": [
    "final_df.shape"
   ]
  },
  {
   "cell_type": "code",
   "execution_count": 373,
   "id": "ef5bbb24-5450-4a1c-9b55-48a6543751b1",
   "metadata": {},
   "outputs": [
    {
     "data": {
      "text/plain": [
       "Index(['Row ID', 'Postal Code', 'Sales', 'Quantity', 'Discount', 'Profit',\n",
       "       'Shipping Cost', 'Order Date_01-01-2011', 'Order Date_01-01-2013',\n",
       "       'Order Date_01-01-2014',\n",
       "       ...\n",
       "       'Product Name_Zebra ZM400 Thermal Label Printer',\n",
       "       'Product Name_Zebra Zazzle Fluorescent Highlighters',\n",
       "       'Product Name_Zipper Ring Binder Pockets',\n",
       "       'Product Name_i.Sound Portable Power - 8000 mAh',\n",
       "       'Product Name_iHome FM Clock Radio with Lightning Dock',\n",
       "       'Product Name_iKross Bluetooth Portable Keyboard + Cell Phone Stand Holder + Brush for Apple iPhone 5S 5C 5, 4S 4',\n",
       "       'Product Name_iOttie HLCRIO102 Car Mount',\n",
       "       'Product Name_iOttie XL Car Mount',\n",
       "       'Product Name_invisibleSHIELD by ZAGG Smudge-Free Screen Protector',\n",
       "       'Product Name_netTALK DUO VoIP Telephone Service'],\n",
       "      dtype='object', length=21898)"
      ]
     },
     "execution_count": 373,
     "metadata": {},
     "output_type": "execute_result"
    }
   ],
   "source": [
    "final_df.columns"
   ]
  }
 ],
 "metadata": {
  "kernelspec": {
   "display_name": "Python 3 (ipykernel)",
   "language": "python",
   "name": "python3"
  },
  "language_info": {
   "codemirror_mode": {
    "name": "ipython",
    "version": 3
   },
   "file_extension": ".py",
   "mimetype": "text/x-python",
   "name": "python",
   "nbconvert_exporter": "python",
   "pygments_lexer": "ipython3",
   "version": "3.12.7"
  }
 },
 "nbformat": 4,
 "nbformat_minor": 5
}
